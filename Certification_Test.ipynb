{
 "cells": [
  {
   "cell_type": "markdown",
   "metadata": {},
   "source": [
    "## Setup and imports"
   ]
  },
  {
   "cell_type": "code",
   "execution_count": 1,
   "metadata": {
    "id": "pEpEfsvcHKre"
   },
   "outputs": [],
   "source": [
    "!pip install -q easydict"
   ]
  },
  {
   "cell_type": "code",
   "execution_count": null,
   "metadata": {
    "colab": {
     "base_uri": "https://localhost:8080/"
    },
    "id": "FDlxwScPHSW_",
    "outputId": "cbb84c65-cb1d-43a1-b143-abc998671365"
   },
   "outputs": [],
   "source": [
    "!git clone https://github.com/sayakpaul/Denoised-Smoothing-TF\n",
    "!cd Denoised-Smoothing-TF && tar xf models.tar.gz"
   ]
  },
  {
   "cell_type": "code",
   "execution_count": 1,
   "metadata": {
    "colab": {
     "base_uri": "https://localhost:8080/"
    },
    "id": "xjXud_Y7HXTm",
    "outputId": "cb61d846-c8b1-4b88-fb7a-c41534b1a2de"
   },
   "outputs": [],
   "source": [
    "import sys\n",
    "sys.path.append(\"Denoised-Smoothing-TF\")\n",
    "\n",
    "from scripts import certify, analyze\n",
    "import matplotlib.pyplot as plt\n",
    "import tensorflow as tf\n",
    "import numpy as np\n",
    "\n",
    "tf.random.set_seed(42)\n",
    "np.random.seed(42)"
   ]
  },
  {
   "cell_type": "markdown",
   "metadata": {},
   "source": [
    "## Load models"
   ]
  },
  {
   "cell_type": "code",
   "execution_count": 2,
   "metadata": {
    "colab": {
     "base_uri": "https://localhost:8080/"
    },
    "id": "Dzhq0lXNHssc",
    "outputId": "2b184ca9-4c2b-4df0-8a2f-b00a407b75d4"
   },
   "outputs": [
    {
     "name": "stdout",
     "output_type": "stream",
     "text": [
      "Loading models.\n",
      "WARNING:tensorflow:No training configuration found in save file, so the model was *not* compiled. Compile it manually.\n",
      "WARNING:tensorflow:No training configuration found in save file, so the model was *not* compiled. Compile it manually.\n",
      "Models loaded.\n"
     ]
    }
   ],
   "source": [
    "print(\"Loading models.\")\n",
    "denoiser_mse = tf.keras.models.load_model(\"denoiser_mse\")\n",
    "denoiser_stab = tf.keras.models.load_model(\"denoiser_stability\")\n",
    "classifier = tf.keras.models.load_model(\"resnet20_classifier\")\n",
    "print(\"Models loaded.\")"
   ]
  },
  {
   "cell_type": "markdown",
   "metadata": {},
   "source": [
    "## Load dataset"
   ]
  },
  {
   "cell_type": "code",
   "execution_count": 3,
   "metadata": {
    "colab": {
     "base_uri": "https://localhost:8080/"
    },
    "id": "flIat9vpJqpl",
    "outputId": "ba351f95-acfd-4b0f-e757-08881c1a7890"
   },
   "outputs": [
    {
     "name": "stdout",
     "output_type": "stream",
     "text": [
      "Total test examples: 10000\n"
     ]
    }
   ],
   "source": [
    "(x_train, _), (x_test, y_test) = tf.keras.datasets.cifar10.load_data()\n",
    "x_test = x_test.astype(\"float32\") / 255.0\n",
    "print(f\"Total test examples: {len(x_test)}\")\n",
    "\n",
    "# Compute the mean and the variance of the training data for normalization\n",
    "norm_layer = tf.keras.layers.experimental.preprocessing.Normalization()\n",
    "norm_layer.adapt(x_train/255.0) # Notice the scaling step"
   ]
  },
  {
   "cell_type": "markdown",
   "metadata": {},
   "source": [
    "## Perform certification test with just the classifier"
   ]
  },
  {
   "cell_type": "code",
   "execution_count": null,
   "metadata": {
    "colab": {
     "base_uri": "https://localhost:8080/"
    },
    "id": "4HKXO-jHJzDg",
    "outputId": "dd4a8f10-1b87-459d-e652-0790f32bb11d"
   },
   "outputs": [],
   "source": [
    "# Classifier includes normalization layer\n",
    "certify.perform_certification_test(classifier, dataset=(x_test, y_test), sigma=0.25,\n",
    "\t\t\t\t\t\t\t   outfile=\"certification_output/sigma_0.25_no_denoiser\")"
   ]
  },
  {
   "cell_type": "markdown",
   "metadata": {},
   "source": [
    "The outputs have been removed for brevity. Here's how they should look like:\n",
    "\n",
    "```\n",
    "idx\tlabel\tpredict\tradius\tcorrect\ttime\n",
    "0\t[3]\t3\t0.251\t1\t0:00:05.218241\n",
    "20\t[7]\t-1\t0.0\t0\t0:00:02.660233\n",
    "40\t[4]\t1\t0.158\t0\t0:00:02.642258\n",
    "60\t[7]\t-1\t0.0\t0\t0:00:02.648299\n",
    "80\t[8]\t-1\t0.0\t0\t0:00:02.683648\n",
    "100\t[4]\t3\t0.2\t0\t0:00:02.646552\n",
    "```"
   ]
  },
  {
   "cell_type": "markdown",
   "metadata": {},
   "source": [
    "## Prepend a denoiser with the classifier\n",
    "\n",
    "Here, we are taking two denoisers trained with two different objectives: (i) MSE and (ii) Stability."
   ]
  },
  {
   "cell_type": "code",
   "execution_count": 6,
   "metadata": {
    "id": "aJyfYHmWX-V5"
   },
   "outputs": [],
   "source": [
    "denoiser_mse_new = tf.keras.Model(denoiser_mse.input, denoiser_mse.output, name=\"denoiser_mse\")\n",
    "denoiser_mse_classifier = tf.keras.Sequential([\n",
    "    denoiser_mse_new,\n",
    "    classifier\n",
    "], name=\"denoiser_mse_classifier\")\n",
    "\n",
    "\n",
    "denoiser_stab_new = tf.keras.Model(denoiser_stab.input, denoiser_stab.output, name=\"denoiser_stab\")\n",
    "denoiser_stab_classifier = tf.keras.Sequential([\n",
    "    denoiser_stab_new,\n",
    "    classifier\n",
    "], name=\"denoiser_stab_classifier\")"
   ]
  },
  {
   "cell_type": "markdown",
   "metadata": {},
   "source": [
    "## Perform certification tests"
   ]
  },
  {
   "cell_type": "code",
   "execution_count": null,
   "metadata": {
    "colab": {
     "base_uri": "https://localhost:8080/"
    },
    "id": "BaLu8EkqYP_l",
    "outputId": "71761c62-3e6e-4faa-b3bd-a5d18ade0c61"
   },
   "outputs": [],
   "source": [
    "# Denoiser is appended which does not include a normalization layer\n",
    "certify.perform_certification_test(denoiser_mse_classifier, dataset=(norm_layer(x_test), y_test), sigma=0.25,\n",
    "\t\t\t\t\t\t\t   outfile=\"certification_output/sigma_0.25_denoiser_mse\")"
   ]
  },
  {
   "cell_type": "markdown",
   "metadata": {},
   "source": [
    "Here's how the output should look like:\n",
    "\n",
    "```\n",
    "idx\tlabel\tpredict\tradius\tcorrect\ttime\n",
    "0\t[3]\t3\t0.292\t1\t0:00:06.420894\n",
    "20\t[7]\t3\t0.027\t0\t0:00:03.644317\n",
    "40\t[4]\t-1\t0.0\t0\t0:00:03.607284\n",
    "60\t[7]\t4\t0.135\t0\t0:00:03.600402\n",
    "80\t[8]\t6\t0.133\t0\t0:00:03.577247\n",
    "100\t[4]\t6\t0.175\t0\t0:00:03.588902\n",
    "```"
   ]
  },
  {
   "cell_type": "code",
   "execution_count": null,
   "metadata": {
    "colab": {
     "base_uri": "https://localhost:8080/"
    },
    "id": "pcar2QNhfD2T",
    "outputId": "e0fc1874-82e7-4896-fb68-8a19434ed154"
   },
   "outputs": [],
   "source": [
    "# Denoiser is appended which does not include a normalization layer\n",
    "certify.perform_certification_test(denoiser_stab_classifier, dataset=(norm_layer(x_test), y_test), sigma=0.25,\n",
    "\t\t\t\t\t\t\t   outfile=\"certification_output/sigma_0.25_denoiser_stab\")"
   ]
  },
  {
   "cell_type": "markdown",
   "metadata": {},
   "source": [
    "Here's how the outputs should look like: \n",
    "\n",
    "```\n",
    "idx\tlabel\tpredict\tradius\tcorrect\ttime\n",
    "0\t[3]\t3\t0.53\t1\t0:00:04.103444\n",
    "20\t[7]\t7\t0.378\t1\t0:00:03.612182\n",
    "40\t[4]\t0\t0.377\t0\t0:00:03.602446\n",
    "60\t[7]\t4\t0.0825\t0\t0:00:03.594705\n",
    "80\t[8]\t8\t0.8\t1\t0:00:03.611531\n",
    "100\t[4]\t-1\t0.0\t0\t0:00:03.618659\n",
    "```"
   ]
  },
  {
   "cell_type": "markdown",
   "metadata": {},
   "source": [
    "## Generate the figures residing under `figures/`"
   ]
  },
  {
   "cell_type": "code",
   "execution_count": 9,
   "metadata": {
    "id": "Jk9pGcXXlneh"
   },
   "outputs": [],
   "source": [
    "certification_result_with_denoiser = \"certification_output/sigma_0.25_denoiser_mse\"\n",
    "certification_result_without_denoiser = \"certification_output/sigma_0.25_no_denoiser\"\n",
    "\n",
    "analyze.plot_certified_accuracy_per_sigma_best_model(\n",
    "    \"denoiser_mse\", 'With vs Without Denoiser', 1.0,\n",
    "    methods=\n",
    "        [analyze.Line(analyze.ApproximateAccuracy(certification_result_with_denoiser), \"$\\sigma = 0.12$\")],\n",
    "    label='With Denoiser',\n",
    "    methods_base=\n",
    "        [analyze.Line(analyze.ApproximateAccuracy(certification_result_without_denoiser), \"$\\sigma = 0.12$\")], \n",
    "    label_base='Without Denoiser',\n",
    "    sigmas=[0.25])"
   ]
  },
  {
   "cell_type": "code",
   "execution_count": 10,
   "metadata": {
    "id": "OSKvMH9Fmabt"
   },
   "outputs": [],
   "source": [
    "certification_result_with_denoiser = \"certification_output/sigma_0.25_denoiser_stab\"\n",
    "\n",
    "analyze.plot_certified_accuracy_per_sigma_best_model(\n",
    "    \"denoiser_stab\", 'With vs Without Denoiser', 1.0,\n",
    "    methods=\n",
    "        [analyze.Line(analyze.ApproximateAccuracy(certification_result_with_denoiser), \"$\\sigma = 0.12$\")],\n",
    "    label='With Denoiser',\n",
    "    methods_base=\n",
    "        [analyze.Line(analyze.ApproximateAccuracy(certification_result_without_denoiser), \"$\\sigma = 0.12$\")], \n",
    "    label_base='Without Denoiser',\n",
    "    sigmas=[0.25])"
   ]
  }
 ],
 "metadata": {
  "accelerator": "GPU",
  "colab": {
   "authorship_tag": "ABX9TyP1vj+fm48qO4/QTx1rnQGx",
   "collapsed_sections": [],
   "include_colab_link": true,
   "machine_shape": "hm",
   "name": "Certification_Test.ipynb",
   "provenance": []
  },
  "environment": {
   "name": "tf2-gpu.2-4.m65",
   "type": "gcloud",
   "uri": "gcr.io/deeplearning-platform-release/tf2-gpu.2-4:m65"
  },
  "kernelspec": {
   "display_name": "Python 3",
   "language": "python",
   "name": "python3"
  },
  "language_info": {
   "codemirror_mode": {
    "name": "ipython",
    "version": 3
   },
   "file_extension": ".py",
   "mimetype": "text/x-python",
   "name": "python",
   "nbconvert_exporter": "python",
   "pygments_lexer": "ipython3",
   "version": "3.7.10"
  }
 },
 "nbformat": 4,
 "nbformat_minor": 4
}
