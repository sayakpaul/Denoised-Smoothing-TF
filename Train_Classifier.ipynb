{
 "cells": [
  {
   "cell_type": "markdown",
   "metadata": {
    "id": "T18oVtwdDYtM"
   },
   "source": [
    "## Setup and imports"
   ]
  },
  {
   "cell_type": "code",
   "execution_count": 1,
   "metadata": {
    "id": "Hvge9_rAA9tj"
   },
   "outputs": [],
   "source": [
    "import sys\n",
    "sys.path.append(\"Denoised-Smoothing-TF\")\n",
    "\n",
    "from models import resnet20\n",
    "\n",
    "from tensorflow.keras import layers\n",
    "import tensorflow as tf\n",
    "\n",
    "import matplotlib.pyplot as plt\n",
    "import numpy as np\n",
    "\n",
    "tf.random.set_seed(42)\n",
    "np.random.seed(42)"
   ]
  },
  {
   "cell_type": "code",
   "execution_count": 2,
   "metadata": {
    "colab": {
     "base_uri": "https://localhost:8080/"
    },
    "id": "hTxobBFVFRSN",
    "outputId": "ec47e51c-4051-4046-b8b3-37a161cfeb24"
   },
   "outputs": [
    {
     "name": "stdout",
     "output_type": "stream",
     "text": [
      "INFO:tensorflow:Using MirroredStrategy with devices ('/job:localhost/replica:0/task:0/device:GPU:0', '/job:localhost/replica:0/task:0/device:GPU:1', '/job:localhost/replica:0/task:0/device:GPU:2', '/job:localhost/replica:0/task:0/device:GPU:3')\n",
      "Number of accelerators:  4\n"
     ]
    }
   ],
   "source": [
    "try: \n",
    "    tpu = None\n",
    "    tpu = tf.distribute.cluster_resolver.TPUClusterResolver() \n",
    "    tf.config.experimental_connect_to_cluster(tpu)\n",
    "    tf.tpu.experimental.initialize_tpu_system(tpu)\n",
    "    strategy = tf.distribute.TPUStrategy(tpu)\n",
    "except ValueError: \n",
    "    strategy = tf.distribute.MirroredStrategy() \n",
    "\n",
    "print(\"Number of accelerators: \", strategy.num_replicas_in_sync)"
   ]
  },
  {
   "cell_type": "markdown",
   "metadata": {
    "id": "VPXES8gJDbAA"
   },
   "source": [
    "## Load the CIFAR-10 dataset"
   ]
  },
  {
   "cell_type": "code",
   "execution_count": 4,
   "metadata": {
    "colab": {
     "base_uri": "https://localhost:8080/"
    },
    "id": "PeEXTDzCBuFr",
    "outputId": "87e05713-4ebc-4839-d20f-58abf254549e"
   },
   "outputs": [
    {
     "name": "stdout",
     "output_type": "stream",
     "text": [
      "Total training examples: 50000\n",
      "Total test examples: 10000\n"
     ]
    }
   ],
   "source": [
    "(x_train, y_train), (x_test, y_test) = tf.keras.datasets.cifar10.load_data()\n",
    "\n",
    "y_train = tf.keras.utils.to_categorical(y_train, 10)\n",
    "y_test = tf.keras.utils.to_categorical(y_test, 10)\n",
    "\n",
    "print(f\"Total training examples: {len(x_train)}\")\n",
    "print(f\"Total test examples: {len(x_test)}\")"
   ]
  },
  {
   "cell_type": "markdown",
   "metadata": {
    "id": "U4RfWSOZDfS6"
   },
   "source": [
    "## Define constants"
   ]
  },
  {
   "cell_type": "code",
   "execution_count": 5,
   "metadata": {
    "id": "uRL0hOAUByGr"
   },
   "outputs": [],
   "source": [
    "BATCH_SIZE = 128 * strategy.num_replicas_in_sync\n",
    "EPOCHS = 90 \n",
    "START_LR = 0.1 \n",
    "AUTO = tf.data.AUTOTUNE"
   ]
  },
  {
   "cell_type": "markdown",
   "metadata": {
    "id": "1DUjJliJDiEq"
   },
   "source": [
    "## Prepare data loaders"
   ]
  },
  {
   "cell_type": "code",
   "execution_count": 6,
   "metadata": {
    "id": "tQT1v91WB0Cm"
   },
   "outputs": [],
   "source": [
    "# Augmentation pipeline\n",
    "data_augmentation = tf.keras.Sequential(\n",
    "    [\n",
    "        layers.experimental.preprocessing.Normalization(),\n",
    "        layers.experimental.preprocessing.RandomCrop(32, 32),\n",
    "        layers.experimental.preprocessing.RandomFlip(\"horizontal\"),\n",
    "        layers.experimental.preprocessing.RandomRotation(factor=0.02),\n",
    "        layers.experimental.preprocessing.RandomZoom(\n",
    "            height_factor=0.2, width_factor=0.2\n",
    "        )\n",
    "    ]\n",
    ")\n",
    "\n",
    "# Now, map the augmentation pipeline to our training dataset\n",
    "train_ds = (\n",
    "    tf.data.Dataset.from_tensor_slices((x_train, y_train))\n",
    "    .shuffle(BATCH_SIZE * 100)\n",
    "    .map(lambda x, y: (tf.image.convert_image_dtype(x, tf.float32), y), \n",
    "         num_parallel_calls=AUTO)\n",
    "    .batch(BATCH_SIZE)\n",
    "    .prefetch(AUTO)\n",
    ")\n",
    "\n",
    "# Test dataset\n",
    "test_ds = (\n",
    "    tf.data.Dataset.from_tensor_slices((x_test, y_test))\n",
    "    .map(lambda x, y: (tf.image.convert_image_dtype(x, tf.float32), y), \n",
    "         num_parallel_calls=AUTO)\n",
    "    .batch(BATCH_SIZE)\n",
    "    .prefetch(AUTO)\n",
    ")\n",
    "\n",
    "# Compute the mean and the variance of the training data for normalization\n",
    "data_augmentation.layers[0].adapt(x_train/255.) # Notice the scaling step"
   ]
  },
  {
   "cell_type": "markdown",
   "metadata": {
    "id": "5uKnDkElDmPK"
   },
   "source": [
    "## Model utilities"
   ]
  },
  {
   "cell_type": "code",
   "execution_count": 7,
   "metadata": {
    "id": "JfMwi6acCGxE"
   },
   "outputs": [],
   "source": [
    "def get_model(n_classes=10):\n",
    "    n = 2\n",
    "    depth = n * 9 + 2\n",
    "    n_blocks = ((depth - 2) // 9) - 1\n",
    "\n",
    "    # The input tensor\n",
    "    inputs = layers.Input(shape=(32, 32, 3))\n",
    "    x = data_augmentation(inputs) # Normalize and augment\n",
    "\n",
    "    # The Stem Convolution Group\n",
    "    x = resnet20.stem(x)\n",
    "\n",
    "    # The learner\n",
    "    x = resnet20.learner(x, n_blocks)\n",
    "\n",
    "    # The Classifier for 10 classes\n",
    "    outputs = resnet20.classifier(x, 10)\n",
    "\n",
    "    # Instantiate the Model\n",
    "    model = tf.keras.Model(inputs, outputs)\n",
    "    return model"
   ]
  },
  {
   "cell_type": "code",
   "execution_count": 8,
   "metadata": {
    "colab": {
     "base_uri": "https://localhost:8080/"
    },
    "id": "k38CSL2RCgsb",
    "outputId": "2e2b5e4e-49d6-4596-db04-5cbdcea28bef"
   },
   "outputs": [
    {
     "name": "stdout",
     "output_type": "stream",
     "text": [
      "INFO:tensorflow:Reduce to /job:localhost/replica:0/task:0/device:CPU:0 then broadcast to ('/job:localhost/replica:0/task:0/device:CPU:0',).\n",
      "INFO:tensorflow:Reduce to /job:localhost/replica:0/task:0/device:CPU:0 then broadcast to ('/job:localhost/replica:0/task:0/device:CPU:0',).\n",
      "INFO:tensorflow:Reduce to /job:localhost/replica:0/task:0/device:CPU:0 then broadcast to ('/job:localhost/replica:0/task:0/device:CPU:0',).\n",
      "INFO:tensorflow:Reduce to /job:localhost/replica:0/task:0/device:CPU:0 then broadcast to ('/job:localhost/replica:0/task:0/device:CPU:0',).\n",
      "INFO:tensorflow:Reduce to /job:localhost/replica:0/task:0/device:CPU:0 then broadcast to ('/job:localhost/replica:0/task:0/device:CPU:0',).\n",
      "INFO:tensorflow:Reduce to /job:localhost/replica:0/task:0/device:CPU:0 then broadcast to ('/job:localhost/replica:0/task:0/device:CPU:0',).\n",
      "INFO:tensorflow:Reduce to /job:localhost/replica:0/task:0/device:CPU:0 then broadcast to ('/job:localhost/replica:0/task:0/device:CPU:0',).\n",
      "INFO:tensorflow:Reduce to /job:localhost/replica:0/task:0/device:CPU:0 then broadcast to ('/job:localhost/replica:0/task:0/device:CPU:0',).\n",
      "INFO:tensorflow:Reduce to /job:localhost/replica:0/task:0/device:CPU:0 then broadcast to ('/job:localhost/replica:0/task:0/device:CPU:0',).\n",
      "INFO:tensorflow:Reduce to /job:localhost/replica:0/task:0/device:CPU:0 then broadcast to ('/job:localhost/replica:0/task:0/device:CPU:0',).\n",
      "INFO:tensorflow:Assets written to: initial_model_resnet20/assets\n"
     ]
    }
   ],
   "source": [
    "# Serialize the initial model for better reproducibility\n",
    "with strategy.scope():\n",
    "    get_model().save(\"initial_model_resnet20\")"
   ]
  },
  {
   "cell_type": "markdown",
   "metadata": {
    "id": "bLjm5gx4Dp1n"
   },
   "source": [
    "## Model training"
   ]
  },
  {
   "cell_type": "code",
   "execution_count": 9,
   "metadata": {},
   "outputs": [],
   "source": [
    "# LR Scheduler\n",
    "reduce_lr = tf.keras.callbacks.ReduceLROnPlateau(monitor=\"loss\", patience=3)"
   ]
  },
  {
   "cell_type": "code",
   "execution_count": 11,
   "metadata": {
    "id": "BwGi5W1tB6N9"
   },
   "outputs": [],
   "source": [
    "# Optimizer and loss function\n",
    "optimizer = tf.keras.optimizers.SGD(learning_rate=START_LR, momentum=0.9)\n",
    "loss_fn = tf.keras.losses.CategoricalCrossentropy(label_smoothing=0.1)"
   ]
  },
  {
   "cell_type": "markdown",
   "metadata": {},
   "source": [
    "One can obtain the initial weights that I used from here."
   ]
  },
  {
   "cell_type": "code",
   "execution_count": 12,
   "metadata": {
    "colab": {
     "base_uri": "https://localhost:8080/",
     "height": 817
    },
    "id": "ZyuPYAniB8oo",
    "outputId": "624abaa8-0e3f-455c-9a7a-849dd84ccec2"
   },
   "outputs": [
    {
     "name": "stdout",
     "output_type": "stream",
     "text": [
      "WARNING:tensorflow:No training configuration found in save file, so the model was *not* compiled. Compile it manually.\n",
      "Epoch 1/90\n",
      "INFO:tensorflow:batch_all_reduce: 64 all-reduces with algorithm = nccl, num_packs = 1\n",
      "INFO:tensorflow:batch_all_reduce: 64 all-reduces with algorithm = nccl, num_packs = 1\n",
      "98/98 [==============================] - 37s 84ms/step - loss: 2.8488 - accuracy: 0.3010 - val_loss: 3.2726 - val_accuracy: 0.1548\n",
      "Epoch 2/90\n",
      "98/98 [==============================] - 4s 38ms/step - loss: 2.2715 - accuracy: 0.5186 - val_loss: 3.3691 - val_accuracy: 0.2144\n",
      "Epoch 3/90\n",
      "98/98 [==============================] - 4s 37ms/step - loss: 1.9979 - accuracy: 0.6048 - val_loss: 2.7135 - val_accuracy: 0.3336\n",
      "Epoch 4/90\n",
      "98/98 [==============================] - 4s 38ms/step - loss: 1.8074 - accuracy: 0.6551 - val_loss: 2.5401 - val_accuracy: 0.3601\n",
      "Epoch 5/90\n",
      "98/98 [==============================] - 4s 39ms/step - loss: 1.6644 - accuracy: 0.6894 - val_loss: 1.9648 - val_accuracy: 0.5036\n",
      "Epoch 6/90\n",
      "98/98 [==============================] - 4s 38ms/step - loss: 1.5487 - accuracy: 0.7186 - val_loss: 2.2063 - val_accuracy: 0.4356\n",
      "Epoch 7/90\n",
      "98/98 [==============================] - 4s 38ms/step - loss: 1.4611 - accuracy: 0.7398 - val_loss: 1.8801 - val_accuracy: 0.5276\n",
      "Epoch 8/90\n",
      "98/98 [==============================] - 4s 38ms/step - loss: 1.3852 - accuracy: 0.7584 - val_loss: 2.0180 - val_accuracy: 0.5040\n",
      "Epoch 9/90\n",
      "98/98 [==============================] - 4s 38ms/step - loss: 1.3285 - accuracy: 0.7718 - val_loss: 1.7894 - val_accuracy: 0.5651\n",
      "Epoch 10/90\n",
      "98/98 [==============================] - 4s 38ms/step - loss: 1.2737 - accuracy: 0.7868 - val_loss: 1.5319 - val_accuracy: 0.6630\n",
      "Epoch 11/90\n",
      "98/98 [==============================] - 4s 38ms/step - loss: 1.2424 - accuracy: 0.7919 - val_loss: 1.3516 - val_accuracy: 0.7430\n",
      "Epoch 12/90\n",
      "98/98 [==============================] - 4s 38ms/step - loss: 1.2025 - accuracy: 0.8089 - val_loss: 1.4036 - val_accuracy: 0.7066\n",
      "Epoch 13/90\n",
      "98/98 [==============================] - 4s 38ms/step - loss: 1.1860 - accuracy: 0.8057 - val_loss: 1.4849 - val_accuracy: 0.6475\n",
      "Epoch 14/90\n",
      "98/98 [==============================] - 4s 37ms/step - loss: 1.1651 - accuracy: 0.8121 - val_loss: 1.2476 - val_accuracy: 0.7728\n",
      "Epoch 15/90\n",
      "98/98 [==============================] - 4s 37ms/step - loss: 1.1447 - accuracy: 0.8172 - val_loss: 1.4883 - val_accuracy: 0.6643\n",
      "Epoch 16/90\n",
      "98/98 [==============================] - 4s 38ms/step - loss: 1.1286 - accuracy: 0.8219 - val_loss: 1.4024 - val_accuracy: 0.7007\n",
      "Epoch 17/90\n",
      "98/98 [==============================] - 4s 38ms/step - loss: 1.1160 - accuracy: 0.8298 - val_loss: 1.3709 - val_accuracy: 0.7023\n",
      "Epoch 18/90\n",
      "98/98 [==============================] - 4s 38ms/step - loss: 1.1035 - accuracy: 0.8326 - val_loss: 1.4490 - val_accuracy: 0.6755\n",
      "Epoch 19/90\n",
      "98/98 [==============================] - 4s 38ms/step - loss: 1.0949 - accuracy: 0.8325 - val_loss: 1.4252 - val_accuracy: 0.7097\n",
      "Epoch 20/90\n",
      "98/98 [==============================] - 4s 38ms/step - loss: 1.0837 - accuracy: 0.8380 - val_loss: 1.3267 - val_accuracy: 0.7224\n",
      "Epoch 21/90\n",
      "98/98 [==============================] - 4s 37ms/step - loss: 1.0763 - accuracy: 0.8408 - val_loss: 1.3289 - val_accuracy: 0.7428\n",
      "Epoch 22/90\n",
      "98/98 [==============================] - 4s 37ms/step - loss: 1.0623 - accuracy: 0.8492 - val_loss: 1.4044 - val_accuracy: 0.6906\n",
      "Epoch 23/90\n",
      "98/98 [==============================] - 4s 37ms/step - loss: 1.0606 - accuracy: 0.8467 - val_loss: 1.2882 - val_accuracy: 0.7433\n",
      "Epoch 24/90\n",
      "98/98 [==============================] - 4s 37ms/step - loss: 1.0580 - accuracy: 0.8472 - val_loss: 1.1374 - val_accuracy: 0.8096\n",
      "Epoch 25/90\n",
      "98/98 [==============================] - 4s 37ms/step - loss: 1.0486 - accuracy: 0.8556 - val_loss: 1.1734 - val_accuracy: 0.7993\n",
      "Epoch 26/90\n",
      "98/98 [==============================] - 4s 37ms/step - loss: 1.0435 - accuracy: 0.8539 - val_loss: 1.4582 - val_accuracy: 0.7105\n",
      "Epoch 27/90\n",
      "98/98 [==============================] - 4s 37ms/step - loss: 1.0443 - accuracy: 0.8541 - val_loss: 1.1658 - val_accuracy: 0.7959\n",
      "Epoch 28/90\n",
      "98/98 [==============================] - 4s 37ms/step - loss: 1.0367 - accuracy: 0.8561 - val_loss: 1.1672 - val_accuracy: 0.7906\n",
      "Epoch 29/90\n",
      "98/98 [==============================] - 4s 37ms/step - loss: 1.0300 - accuracy: 0.8589 - val_loss: 1.1647 - val_accuracy: 0.7992\n",
      "Epoch 30/90\n",
      "98/98 [==============================] - 4s 38ms/step - loss: 1.0232 - accuracy: 0.8650 - val_loss: 1.3640 - val_accuracy: 0.6991\n",
      "Epoch 31/90\n",
      "98/98 [==============================] - 4s 44ms/step - loss: 1.0234 - accuracy: 0.8637 - val_loss: 1.3191 - val_accuracy: 0.7413\n",
      "Epoch 32/90\n",
      "98/98 [==============================] - 4s 38ms/step - loss: 1.0225 - accuracy: 0.8639 - val_loss: 1.2982 - val_accuracy: 0.7327\n",
      "Epoch 33/90\n",
      "98/98 [==============================] - 4s 38ms/step - loss: 1.0173 - accuracy: 0.8656 - val_loss: 1.2761 - val_accuracy: 0.7511\n",
      "Epoch 34/90\n",
      "98/98 [==============================] - 4s 37ms/step - loss: 1.0138 - accuracy: 0.8695 - val_loss: 1.2862 - val_accuracy: 0.7413\n",
      "Epoch 35/90\n",
      "98/98 [==============================] - 4s 37ms/step - loss: 1.0158 - accuracy: 0.8670 - val_loss: 1.2404 - val_accuracy: 0.7620\n",
      "Epoch 36/90\n",
      "98/98 [==============================] - 4s 37ms/step - loss: 1.0123 - accuracy: 0.8698 - val_loss: 1.3879 - val_accuracy: 0.7165\n",
      "Epoch 37/90\n",
      "98/98 [==============================] - 4s 38ms/step - loss: 1.0071 - accuracy: 0.8694 - val_loss: 1.1850 - val_accuracy: 0.7906\n",
      "Epoch 38/90\n",
      "98/98 [==============================] - 4s 37ms/step - loss: 1.0041 - accuracy: 0.8733 - val_loss: 1.5698 - val_accuracy: 0.6199\n",
      "Epoch 39/90\n",
      "98/98 [==============================] - 4s 37ms/step - loss: 1.0102 - accuracy: 0.8697 - val_loss: 1.2012 - val_accuracy: 0.7895\n",
      "Epoch 40/90\n",
      "98/98 [==============================] - 4s 37ms/step - loss: 0.9943 - accuracy: 0.8770 - val_loss: 1.2013 - val_accuracy: 0.7883\n",
      "Epoch 41/90\n",
      "98/98 [==============================] - 4s 37ms/step - loss: 1.0045 - accuracy: 0.8728 - val_loss: 1.1885 - val_accuracy: 0.7838\n",
      "Epoch 42/90\n",
      "98/98 [==============================] - 4s 38ms/step - loss: 1.0080 - accuracy: 0.8719 - val_loss: 1.4929 - val_accuracy: 0.6913\n",
      "Epoch 43/90\n",
      "98/98 [==============================] - 4s 37ms/step - loss: 0.9881 - accuracy: 0.8813 - val_loss: 1.1192 - val_accuracy: 0.8183\n",
      "Epoch 44/90\n",
      "98/98 [==============================] - 4s 38ms/step - loss: 0.9904 - accuracy: 0.8818 - val_loss: 1.1268 - val_accuracy: 0.8135\n",
      "Epoch 45/90\n",
      "98/98 [==============================] - 4s 37ms/step - loss: 0.9886 - accuracy: 0.8818 - val_loss: 1.3396 - val_accuracy: 0.7182\n",
      "Epoch 46/90\n",
      "98/98 [==============================] - 4s 37ms/step - loss: 0.9892 - accuracy: 0.8788 - val_loss: 1.4347 - val_accuracy: 0.7067\n",
      "Epoch 47/90\n",
      "98/98 [==============================] - 4s 37ms/step - loss: 0.9947 - accuracy: 0.8775 - val_loss: 1.2196 - val_accuracy: 0.7749\n",
      "Epoch 48/90\n",
      "98/98 [==============================] - 4s 37ms/step - loss: 0.9867 - accuracy: 0.8817 - val_loss: 1.2558 - val_accuracy: 0.7539\n",
      "Epoch 49/90\n",
      "98/98 [==============================] - 4s 37ms/step - loss: 0.9843 - accuracy: 0.8841 - val_loss: 1.2682 - val_accuracy: 0.7472\n",
      "Epoch 50/90\n",
      "98/98 [==============================] - 4s 37ms/step - loss: 0.9857 - accuracy: 0.8818 - val_loss: 1.2811 - val_accuracy: 0.7571\n",
      "Epoch 51/90\n",
      "98/98 [==============================] - 4s 37ms/step - loss: 0.9828 - accuracy: 0.8843 - val_loss: 1.2532 - val_accuracy: 0.7660\n",
      "Epoch 52/90\n",
      "98/98 [==============================] - 4s 37ms/step - loss: 0.9816 - accuracy: 0.8857 - val_loss: 1.3522 - val_accuracy: 0.7154\n",
      "Epoch 53/90\n",
      "98/98 [==============================] - 4s 37ms/step - loss: 0.9854 - accuracy: 0.8839 - val_loss: 1.3386 - val_accuracy: 0.7117\n",
      "Epoch 54/90\n",
      "98/98 [==============================] - 4s 37ms/step - loss: 0.9894 - accuracy: 0.8795 - val_loss: 1.2549 - val_accuracy: 0.7596\n",
      "Epoch 55/90\n",
      "98/98 [==============================] - 4s 37ms/step - loss: 1.0215 - accuracy: 0.8672 - val_loss: 1.0212 - val_accuracy: 0.8610\n",
      "Epoch 56/90\n",
      "98/98 [==============================] - 4s 37ms/step - loss: 0.8957 - accuracy: 0.9267 - val_loss: 0.9656 - val_accuracy: 0.8871\n",
      "Epoch 57/90\n",
      "98/98 [==============================] - 4s 37ms/step - loss: 0.8760 - accuracy: 0.9339 - val_loss: 0.9486 - val_accuracy: 0.8929\n",
      "Epoch 58/90\n",
      "98/98 [==============================] - 4s 37ms/step - loss: 0.8622 - accuracy: 0.9406 - val_loss: 0.9419 - val_accuracy: 0.8947\n",
      "Epoch 59/90\n",
      "98/98 [==============================] - 4s 37ms/step - loss: 0.8541 - accuracy: 0.9423 - val_loss: 0.9320 - val_accuracy: 0.8980\n",
      "Epoch 60/90\n",
      "98/98 [==============================] - 4s 37ms/step - loss: 0.8435 - accuracy: 0.9458 - val_loss: 0.9226 - val_accuracy: 0.9000\n",
      "Epoch 61/90\n",
      "98/98 [==============================] - 4s 37ms/step - loss: 0.8375 - accuracy: 0.9466 - val_loss: 0.9210 - val_accuracy: 0.8990\n",
      "Epoch 62/90\n",
      "98/98 [==============================] - 4s 37ms/step - loss: 0.8322 - accuracy: 0.9470 - val_loss: 0.9205 - val_accuracy: 0.8954\n",
      "Epoch 63/90\n",
      "98/98 [==============================] - 4s 37ms/step - loss: 0.8249 - accuracy: 0.9504 - val_loss: 0.9382 - val_accuracy: 0.8898\n",
      "Epoch 64/90\n",
      "98/98 [==============================] - 4s 37ms/step - loss: 0.8196 - accuracy: 0.9521 - val_loss: 0.9188 - val_accuracy: 0.8970\n",
      "Epoch 65/90\n",
      "98/98 [==============================] - 4s 44ms/step - loss: 0.8143 - accuracy: 0.9526 - val_loss: 0.9068 - val_accuracy: 0.9025\n",
      "Epoch 66/90\n",
      "98/98 [==============================] - 4s 37ms/step - loss: 0.8091 - accuracy: 0.9558 - val_loss: 0.9219 - val_accuracy: 0.8944\n",
      "Epoch 67/90\n",
      "98/98 [==============================] - 4s 37ms/step - loss: 0.8061 - accuracy: 0.9549 - val_loss: 0.9011 - val_accuracy: 0.9050\n",
      "Epoch 68/90\n",
      "98/98 [==============================] - 4s 37ms/step - loss: 0.8015 - accuracy: 0.9552 - val_loss: 0.9092 - val_accuracy: 0.8990\n",
      "Epoch 69/90\n",
      "98/98 [==============================] - 4s 37ms/step - loss: 0.7942 - accuracy: 0.9578 - val_loss: 0.8952 - val_accuracy: 0.9044\n",
      "Epoch 70/90\n",
      "98/98 [==============================] - 4s 37ms/step - loss: 0.7886 - accuracy: 0.9593 - val_loss: 0.9268 - val_accuracy: 0.8869\n",
      "Epoch 71/90\n",
      "98/98 [==============================] - 4s 37ms/step - loss: 0.7860 - accuracy: 0.9606 - val_loss: 0.9064 - val_accuracy: 0.8979\n",
      "Epoch 72/90\n",
      "98/98 [==============================] - 4s 37ms/step - loss: 0.7807 - accuracy: 0.9613 - val_loss: 0.8991 - val_accuracy: 0.8981\n",
      "Epoch 73/90\n",
      "98/98 [==============================] - 4s 37ms/step - loss: 0.7809 - accuracy: 0.9606 - val_loss: 0.9039 - val_accuracy: 0.8962\n",
      "Epoch 74/90\n",
      "98/98 [==============================] - 4s 37ms/step - loss: 0.7748 - accuracy: 0.9621 - val_loss: 0.8973 - val_accuracy: 0.8953\n",
      "Epoch 75/90\n",
      "98/98 [==============================] - 4s 37ms/step - loss: 0.7673 - accuracy: 0.9656 - val_loss: 0.9183 - val_accuracy: 0.8850\n",
      "Epoch 76/90\n",
      "98/98 [==============================] - 4s 37ms/step - loss: 0.7650 - accuracy: 0.9647 - val_loss: 0.9174 - val_accuracy: 0.8888\n",
      "Epoch 77/90\n",
      "98/98 [==============================] - 4s 37ms/step - loss: 0.7648 - accuracy: 0.9632 - val_loss: 0.8956 - val_accuracy: 0.8981\n",
      "Epoch 78/90\n",
      "98/98 [==============================] - 4s 37ms/step - loss: 0.7602 - accuracy: 0.9656 - val_loss: 0.8840 - val_accuracy: 0.8999\n",
      "Epoch 79/90\n",
      "98/98 [==============================] - 4s 37ms/step - loss: 0.7563 - accuracy: 0.9677 - val_loss: 0.8843 - val_accuracy: 0.8984\n",
      "Epoch 80/90\n",
      "98/98 [==============================] - 4s 37ms/step - loss: 0.7542 - accuracy: 0.9665 - val_loss: 0.8786 - val_accuracy: 0.9016\n",
      "Epoch 81/90\n",
      "98/98 [==============================] - 4s 37ms/step - loss: 0.7508 - accuracy: 0.9680 - val_loss: 0.9328 - val_accuracy: 0.8765\n",
      "Epoch 82/90\n",
      "98/98 [==============================] - 4s 37ms/step - loss: 0.7470 - accuracy: 0.9697 - val_loss: 0.8942 - val_accuracy: 0.8919\n",
      "Epoch 83/90\n",
      "98/98 [==============================] - 4s 38ms/step - loss: 0.7463 - accuracy: 0.9675 - val_loss: 0.8959 - val_accuracy: 0.8933\n",
      "Epoch 84/90\n",
      "98/98 [==============================] - 4s 38ms/step - loss: 0.7449 - accuracy: 0.9686 - val_loss: 0.9073 - val_accuracy: 0.8826\n",
      "Epoch 85/90\n",
      "98/98 [==============================] - 4s 38ms/step - loss: 0.7402 - accuracy: 0.9694 - val_loss: 0.9284 - val_accuracy: 0.8770\n",
      "Epoch 86/90\n",
      "98/98 [==============================] - 4s 37ms/step - loss: 0.7363 - accuracy: 0.9717 - val_loss: 0.8701 - val_accuracy: 0.9018\n",
      "Epoch 87/90\n",
      "98/98 [==============================] - 4s 37ms/step - loss: 0.7337 - accuracy: 0.9721 - val_loss: 0.8923 - val_accuracy: 0.8945\n",
      "Epoch 88/90\n",
      "98/98 [==============================] - 4s 37ms/step - loss: 0.7312 - accuracy: 0.9724 - val_loss: 0.8720 - val_accuracy: 0.9001\n",
      "Epoch 89/90\n",
      "98/98 [==============================] - 4s 37ms/step - loss: 0.7328 - accuracy: 0.9700 - val_loss: 0.8903 - val_accuracy: 0.8937\n",
      "Epoch 90/90\n",
      "98/98 [==============================] - 4s 37ms/step - loss: 0.7295 - accuracy: 0.9710 - val_loss: 0.9041 - val_accuracy: 0.8883\n"
     ]
    }
   ],
   "source": [
    "with strategy.scope():\n",
    "    rn_model = tf.keras.models.load_model(\"initial_model_resnet20\")\n",
    "    rn_model.compile(loss=loss_fn, optimizer=optimizer, metrics=[\"accuracy\"])\n",
    "\n",
    "history = rn_model.fit(train_ds,\n",
    "    validation_data=test_ds,\n",
    "    epochs=EPOCHS,\n",
    "    callbacks=[reduce_lr])"
   ]
  },
  {
   "cell_type": "code",
   "execution_count": 13,
   "metadata": {
    "id": "v1JWLrxYDFZ3"
   },
   "outputs": [
    {
     "data": {
      "image/png": "[encoded data removed]",
      "text/plain": [
       "<Figure size 432x288 with 1 Axes>"
      ]
     },
     "metadata": {
      "needs_background": "light"
     },
     "output_type": "display_data"
    },
    {
     "name": "stdout",
     "output_type": "stream",
     "text": [
      "INFO:tensorflow:Assets written to: resnet20_classifier/assets\n"
     ]
    }
   ],
   "source": [
    "plt.plot(history.history[\"loss\"], label=\"train loss\")\n",
    "plt.plot(history.history[\"val_loss\"], label=\"test loss\")\n",
    "plt.grid()\n",
    "plt.legend()\n",
    "plt.show()\n",
    "\n",
    "rn_model.save(\"resnet20_classifier\")"
   ]
  },
  {
   "cell_type": "code",
   "execution_count": 14,
   "metadata": {
    "id": "C6BohaLaEroC"
   },
   "outputs": [
    {
     "name": "stdout",
     "output_type": "stream",
     "text": [
      "Train accuracy: 95.73%\n",
      "Test accuracy: 88.83%\n"
     ]
    }
   ],
   "source": [
    "with strategy.scope():\n",
    "    _, train_acc = rn_model.evaluate(train_ds, verbose=0)\n",
    "    _, test_acc = rn_model.evaluate(test_ds, verbose=0)\n",
    "\n",
    "print(\"Train accuracy: {:.2f}%\".format(train_acc * 100))\n",
    "print(\"Test accuracy: {:.2f}%\".format(test_acc * 100))"
   ]
  }
 ],
 "metadata": {
  "accelerator": "TPU",
  "colab": {
   "authorship_tag": "ABX9TyOTBCjLZ8eG46OboA5hr1WN",
   "collapsed_sections": [],
   "include_colab_link": true,
   "machine_shape": "hm",
   "name": "Train_Classifier.ipynb",
   "provenance": []
  },
  "environment": {
   "name": "tf2-gpu.2-4.m65",
   "type": "gcloud",
   "uri": "gcr.io/deeplearning-platform-release/tf2-gpu.2-4:m65"
  },
  "kernelspec": {
   "display_name": "Python 3",
   "language": "python",
   "name": "python3"
  },
  "language_info": {
   "codemirror_mode": {
    "name": "ipython",
    "version": 3
   },
   "file_extension": ".py",
   "mimetype": "text/x-python",
   "name": "python",
   "nbconvert_exporter": "python",
   "pygments_lexer": "ipython3",
   "version": "3.7.10"
  }
 },
 "nbformat": 4,
 "nbformat_minor": 4
}
