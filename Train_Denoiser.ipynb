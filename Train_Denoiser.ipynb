{
 "cells": [
  {
   "cell_type": "markdown",
   "metadata": {},
   "source": [
    "## Setup"
   ]
  },
  {
   "cell_type": "code",
   "execution_count": 1,
   "metadata": {
    "id": "YG45t-0IMSKB"
   },
   "outputs": [],
   "source": [
    "import sys\n",
    "sys.path.append(\"Denoised-Smoothing-TF\")\n",
    "\n",
    "from models import dncnn\n",
    "\n",
    "from tensorflow.keras import layers\n",
    "import tensorflow as tf\n",
    "\n",
    "import matplotlib.pyplot as plt\n",
    "import numpy as np\n",
    "\n",
    "tf.random.set_seed(42)\n",
    "np.random.seed(42)"
   ]
  },
  {
   "cell_type": "markdown",
   "metadata": {},
   "source": [
    "With a TPU, you would need to have a GCS Bucket to serialize and load the `SavedModel` files. "
   ]
  },
  {
   "cell_type": "code",
   "execution_count": 2,
   "metadata": {
    "colab": {
     "base_uri": "https://localhost:8080/"
    },
    "id": "kRYDjsR7hesJ",
    "outputId": "93cdcf37-8b77-4989-eb2a-dc0f9818d533"
   },
   "outputs": [
    {
     "name": "stdout",
     "output_type": "stream",
     "text": [
      "INFO:tensorflow:Using MirroredStrategy with devices ('/job:localhost/replica:0/task:0/device:GPU:0', '/job:localhost/replica:0/task:0/device:GPU:1', '/job:localhost/replica:0/task:0/device:GPU:2', '/job:localhost/replica:0/task:0/device:GPU:3')\n",
      "Number of accelerators:  4\n"
     ]
    }
   ],
   "source": [
    "try: \n",
    "    tpu = None\n",
    "    tpu = tf.distribute.cluster_resolver.TPUClusterResolver() \n",
    "    tf.config.experimental_connect_to_cluster(tpu)\n",
    "    tf.tpu.experimental.initialize_tpu_system(tpu)\n",
    "    strategy = tf.distribute.TPUStrategy(tpu)\n",
    "except ValueError: \n",
    "    strategy = tf.distribute.MirroredStrategy() \n",
    "\n",
    "print(\"Number of accelerators: \", strategy.num_replicas_in_sync)"
   ]
  },
  {
   "cell_type": "markdown",
   "metadata": {},
   "source": [
    "## Load dataset"
   ]
  },
  {
   "cell_type": "code",
   "execution_count": 3,
   "metadata": {
    "colab": {
     "base_uri": "https://localhost:8080/"
    },
    "id": "ddbSXTg7OqT-",
    "outputId": "c00d97bc-4feb-4b56-bcf9-9a050cae59ff"
   },
   "outputs": [
    {
     "name": "stdout",
     "output_type": "stream",
     "text": [
      "Total training examples: 50000\n",
      "Total test examples: 10000\n"
     ]
    }
   ],
   "source": [
    "(x_train, _), (x_test, _) = tf.keras.datasets.cifar10.load_data()\n",
    "print(f\"Total training examples: {len(x_train)}\")\n",
    "print(f\"Total test examples: {len(x_test)}\")"
   ]
  },
  {
   "cell_type": "markdown",
   "metadata": {},
   "source": [
    "## Define constants"
   ]
  },
  {
   "cell_type": "code",
   "execution_count": 4,
   "metadata": {
    "id": "n4OqSv79OzFm"
   },
   "outputs": [],
   "source": [
    "BATCH_SIZE = 128 * strategy.num_replicas_in_sync\n",
    "EPOCHS = 90 \n",
    "START_LR = 1e-3\n",
    "AUTO = tf.data.AUTOTUNE"
   ]
  },
  {
   "cell_type": "markdown",
   "metadata": {},
   "source": [
    "## Prepare data loaders"
   ]
  },
  {
   "cell_type": "code",
   "execution_count": 5,
   "metadata": {
    "id": "eFKth0KAO2B4"
   },
   "outputs": [],
   "source": [
    "# Augmentation pipeline\n",
    "data_augmentation = tf.keras.Sequential(\n",
    "    [\n",
    "        layers.experimental.preprocessing.RandomCrop(32, 32),\n",
    "        layers.experimental.preprocessing.RandomFlip(\"horizontal\")\n",
    "    ]\n",
    ")\n",
    "\n",
    "# Now, map the augmentation pipeline to our training dataset\n",
    "train_ds = (\n",
    "    tf.data.Dataset.from_tensor_slices(x_train)\n",
    "    .shuffle(BATCH_SIZE * 100)\n",
    "    .map(lambda x: (tf.image.convert_image_dtype(x, tf.float32)), \n",
    "         num_parallel_calls=AUTO)\n",
    "    .repeat()\n",
    "    .batch(BATCH_SIZE)\n",
    "    .map(data_augmentation, num_parallel_calls=AUTO)\n",
    "    .prefetch(AUTO)\n",
    ")\n",
    "\n",
    "# Test dataset\n",
    "test_ds = (\n",
    "    tf.data.Dataset.from_tensor_slices(x_test)\n",
    "    .map(lambda x: (tf.image.convert_image_dtype(x, tf.float32)), \n",
    "         num_parallel_calls=AUTO)\n",
    "    .batch(BATCH_SIZE)\n",
    "    .prefetch(AUTO)\n",
    ")\n",
    "\n",
    "# Compute the mean and the variance of the training data for normalization\n",
    "norm_layer = layers.experimental.preprocessing.Normalization()\n",
    "norm_layer.adapt(x_train/255.) # Notice the scaling step"
   ]
  },
  {
   "cell_type": "markdown",
   "metadata": {},
   "source": [
    "## Define training loop"
   ]
  },
  {
   "cell_type": "code",
   "execution_count": 6,
   "metadata": {
    "id": "SLLWI3o3P2l5"
   },
   "outputs": [],
   "source": [
    "class Trainer(tf.keras.Model):\n",
    "    def __init__(self, denoiser, classifier, sigma=0.25):\n",
    "        super(Trainer, self).__init__()\n",
    "        self.denoiser = denoiser\n",
    "        self.classifier = classifier\n",
    "        self.sigma = sigma\n",
    "    \n",
    "    def train_step(self, clean_inputs):\n",
    "        batch_size = tf.shape(clean_inputs)[0]\n",
    "        clean_inputs = tf.cast(clean_inputs, tf.float32)\n",
    "        \n",
    "        if self.classifier is not None:\n",
    "            targets = self.classifier(clean_inputs, training=False)\n",
    "        else:\n",
    "            targets = clean_inputs\n",
    "\n",
    "        with tf.GradientTape() as tape:\n",
    "            noise = tf.experimental.numpy.random.randn(batch_size, 32, 32, 3) * self.sigma\n",
    "            noisy_inputs = norm_layer(clean_inputs + noise) # Add noise BEFORE normalization\n",
    "            clean_predictions = self.denoiser(noisy_inputs, training=True)\n",
    "\n",
    "            if self.classifier is not None:\n",
    "                clean_predictions = self.classifier(clean_predictions, \n",
    "                                                    training=False)\n",
    "                loss = self.compiled_loss(targets, clean_predictions)\n",
    "                loss = tf.nn.compute_average_loss(loss, \n",
    "                                                  global_batch_size=BATCH_SIZE)\n",
    "            else:\n",
    "                loss = self.compiled_loss(targets, clean_predictions)\n",
    "                loss /= tf.cast(tf.reduce_prod(tf.shape(targets)[1:]), tf.float32)\n",
    "                loss = tf.nn.compute_average_loss(loss, \n",
    "                                                  global_batch_size=BATCH_SIZE)\n",
    "\n",
    "        trainable_vars = self.denoiser.trainable_variables\n",
    "        gradients = tape.gradient(loss, trainable_vars)\n",
    "        self.optimizer.apply_gradients(zip(gradients, trainable_vars))\n",
    "\n",
    "        return {\"loss\": loss}\n",
    "\n",
    "    def test_step(self, clean_inputs):\n",
    "        batch_size = tf.shape(clean_inputs)[0]\n",
    "        clean_inputs = tf.cast(clean_inputs, tf.float32)\n",
    "        \n",
    "        if self.classifier is not None:\n",
    "            targets = self.classifier(clean_inputs, training=False)\n",
    "        else:\n",
    "            targets = clean_inputs\n",
    "\n",
    "        noise = tf.experimental.numpy.random.randn(batch_size, 32, 32, 3) * self.sigma\n",
    "        noisy_inputs = norm_layer(clean_inputs + noise)\n",
    "        clean_predictions = self.denoiser(noisy_inputs, training=False)\n",
    "\n",
    "        if self.classifier is not None:\n",
    "            clean_predictions = self.classifier(clean_predictions, \n",
    "                                                            training=False)\n",
    "            loss = self.compiled_loss(targets, clean_predictions)\n",
    "            loss = tf.nn.compute_average_loss(loss, \n",
    "                                                  global_batch_size=BATCH_SIZE)\n",
    "        else:\n",
    "            loss = self.compiled_loss(targets, clean_predictions)\n",
    "            loss /= tf.cast(tf.reduce_prod(tf.shape(targets)[1:]), tf.float32)\n",
    "            loss = tf.nn.compute_average_loss(loss, \n",
    "                                                global_batch_size=BATCH_SIZE)\n",
    "\n",
    "        return {\"loss\": loss}"
   ]
  },
  {
   "cell_type": "markdown",
   "metadata": {},
   "source": [
    "## LR schedule"
   ]
  },
  {
   "cell_type": "code",
   "execution_count": 9,
   "metadata": {},
   "outputs": [],
   "source": [
    "# https://github.com/cszn/DnCNN/blob/master/TrainingCodes/dncnn_keras/main_train.py\n",
    "def lr_schedule(epoch):\n",
    "    initial_lr = START_LR\n",
    "    if epoch<=30:\n",
    "        lr = initial_lr\n",
    "    elif epoch<=60:\n",
    "        lr = initial_lr/10\n",
    "    elif epoch<=80:\n",
    "        lr = initial_lr/20 \n",
    "    else:\n",
    "        lr = initial_lr/20 \n",
    "    return lr\n",
    "\n",
    "lr_scheduler = tf.keras.callbacks.LearningRateScheduler(lr_schedule)"
   ]
  },
  {
   "cell_type": "markdown",
   "metadata": {
    "id": "MN327OyrpBCs"
   },
   "source": [
    "## Training with the stability objective\n",
    "\n",
    "From [this blog post](https://www.microsoft.com/en-us/research/blog/denoised-smoothing-provably-defending-pretrained-classifiers-against-adversarial-examples/):\n",
    "\n",
    "> given a classifier $F$ attached to the denoiser $\\mathcal{D}_{\\theta}$, minimize the cross-entropy loss between the prediction of $F(\\mathcal{D}_{theta})$ at the noisy input $x_i + \\delta\n",
    "$ and the prediction of the classifier at the clean data point $x_i$\n",
    "\n",
    "$$\\begin{align}L_{\\text{Stab}}&=\\mathbb{E}_{\\mathcal{S}, \\delta} \\mathcal{\\ell_\\text{CE}}(F(\\mathcal{D}_\\theta(x_i + \\delta)), f(x_i)) \\quad \\text{where} \\; \\delta \\sim \\mathcal{N}(0, \\sigma^2 I) \\; \\end{align}$$"
   ]
  },
  {
   "cell_type": "markdown",
   "metadata": {},
   "source": [
    "One can obtain the initial weights that I used from [here](https://github.com/sayakpaul/Denoised-Smoothing-TF/raw/main/models.tar.gz)."
   ]
  },
  {
   "cell_type": "code",
   "execution_count": 10,
   "metadata": {
    "colab": {
     "base_uri": "https://localhost:8080/"
    },
    "id": "vwF4VpkOU_jV",
    "outputId": "ea319f96-232a-4b8b-9436-3c355014abb5"
   },
   "outputs": [
    {
     "name": "stdout",
     "output_type": "stream",
     "text": [
      "INFO:tensorflow:Assets written to: initial_denoiser/assets\n",
      "Epoch 1/90\n",
      "INFO:tensorflow:batch_all_reduce: 62 all-reduces with algorithm = nccl, num_packs = 1\n",
      "INFO:tensorflow:batch_all_reduce: 62 all-reduces with algorithm = nccl, num_packs = 1\n",
      "97/97 [==============================] - 42s 135ms/step - loss: 0.6532 - val_loss: 0.2795\n",
      "Epoch 2/90\n",
      "97/97 [==============================] - 7s 76ms/step - loss: 0.5013 - val_loss: 0.2699\n",
      "Epoch 3/90\n",
      "97/97 [==============================] - 7s 76ms/step - loss: 0.4726 - val_loss: 0.2519\n",
      "Epoch 4/90\n",
      "97/97 [==============================] - 7s 76ms/step - loss: 0.4553 - val_loss: 0.2569\n",
      "Epoch 5/90\n",
      "97/97 [==============================] - 7s 76ms/step - loss: 0.4462 - val_loss: 0.2513\n",
      "Epoch 6/90\n",
      "97/97 [==============================] - 7s 76ms/step - loss: 0.4304 - val_loss: 0.2535\n",
      "Epoch 7/90\n",
      "97/97 [==============================] - 7s 76ms/step - loss: 0.4230 - val_loss: 0.2321\n",
      "Epoch 8/90\n",
      "97/97 [==============================] - 7s 76ms/step - loss: 0.4154 - val_loss: 0.2375\n",
      "Epoch 9/90\n",
      "97/97 [==============================] - 7s 76ms/step - loss: 0.4066 - val_loss: 0.2319\n",
      "Epoch 10/90\n",
      "97/97 [==============================] - 7s 76ms/step - loss: 0.4013 - val_loss: 0.2191\n",
      "Epoch 11/90\n",
      "97/97 [==============================] - 7s 76ms/step - loss: 0.3943 - val_loss: 0.2176\n",
      "Epoch 12/90\n",
      "97/97 [==============================] - 7s 76ms/step - loss: 0.3924 - val_loss: 0.2400\n",
      "Epoch 13/90\n",
      "97/97 [==============================] - 7s 76ms/step - loss: 0.3847 - val_loss: 0.2264\n",
      "Epoch 14/90\n",
      "97/97 [==============================] - 7s 76ms/step - loss: 0.3811 - val_loss: 0.2324\n",
      "Epoch 15/90\n",
      "97/97 [==============================] - 7s 76ms/step - loss: 0.3781 - val_loss: 0.2334\n",
      "Epoch 16/90\n",
      "97/97 [==============================] - 7s 76ms/step - loss: 0.3759 - val_loss: 0.2223\n",
      "Epoch 17/90\n",
      "97/97 [==============================] - 7s 76ms/step - loss: 0.3713 - val_loss: 0.2315\n",
      "Epoch 18/90\n",
      "97/97 [==============================] - 7s 76ms/step - loss: 0.3658 - val_loss: 0.2134\n",
      "Epoch 19/90\n",
      "97/97 [==============================] - 7s 76ms/step - loss: 0.3666 - val_loss: 0.2367\n",
      "Epoch 20/90\n",
      "97/97 [==============================] - 7s 76ms/step - loss: 0.3636 - val_loss: 0.2326\n",
      "Epoch 21/90\n",
      "97/97 [==============================] - 7s 76ms/step - loss: 0.3618 - val_loss: 0.2329\n",
      "Epoch 22/90\n",
      "97/97 [==============================] - 7s 76ms/step - loss: 0.3567 - val_loss: 0.2203\n",
      "Epoch 23/90\n",
      "97/97 [==============================] - 7s 76ms/step - loss: 0.3581 - val_loss: 0.2186\n",
      "Epoch 24/90\n",
      "97/97 [==============================] - 7s 76ms/step - loss: 0.3548 - val_loss: 0.2143\n",
      "Epoch 25/90\n",
      "97/97 [==============================] - 7s 76ms/step - loss: 0.3512 - val_loss: 0.2224\n",
      "Epoch 26/90\n",
      "97/97 [==============================] - 7s 76ms/step - loss: 0.3509 - val_loss: 0.2111\n",
      "Epoch 27/90\n",
      "97/97 [==============================] - 7s 76ms/step - loss: 0.3493 - val_loss: 0.2153\n",
      "Epoch 28/90\n",
      "97/97 [==============================] - 7s 76ms/step - loss: 0.3461 - val_loss: 0.2137\n",
      "Epoch 29/90\n",
      "97/97 [==============================] - 7s 76ms/step - loss: 0.3479 - val_loss: 0.2345\n",
      "Epoch 30/90\n",
      "97/97 [==============================] - 8s 82ms/step - loss: 0.3430 - val_loss: 0.2128\n",
      "Epoch 31/90\n",
      "97/97 [==============================] - 7s 76ms/step - loss: 0.3401 - val_loss: 0.2196\n",
      "Epoch 32/90\n",
      "97/97 [==============================] - 7s 76ms/step - loss: 0.3327 - val_loss: 0.2110\n",
      "Epoch 33/90\n",
      "97/97 [==============================] - 7s 76ms/step - loss: 0.3235 - val_loss: 0.2101\n",
      "Epoch 34/90\n",
      "97/97 [==============================] - 7s 76ms/step - loss: 0.3221 - val_loss: 0.2111\n",
      "Epoch 35/90\n",
      "97/97 [==============================] - 7s 76ms/step - loss: 0.3187 - val_loss: 0.2076\n",
      "Epoch 36/90\n",
      "97/97 [==============================] - 7s 76ms/step - loss: 0.3181 - val_loss: 0.2115\n",
      "Epoch 37/90\n",
      "97/97 [==============================] - 7s 76ms/step - loss: 0.3189 - val_loss: 0.1944\n",
      "Epoch 38/90\n",
      "97/97 [==============================] - 7s 76ms/step - loss: 0.3182 - val_loss: 0.2054\n",
      "Epoch 39/90\n",
      "97/97 [==============================] - 7s 76ms/step - loss: 0.3145 - val_loss: 0.2028\n",
      "Epoch 40/90\n",
      "97/97 [==============================] - 7s 76ms/step - loss: 0.3122 - val_loss: 0.2087\n",
      "Epoch 41/90\n",
      "97/97 [==============================] - 7s 76ms/step - loss: 0.3138 - val_loss: 0.2031\n",
      "Epoch 42/90\n",
      "97/97 [==============================] - 7s 76ms/step - loss: 0.3163 - val_loss: 0.1981\n",
      "Epoch 43/90\n",
      "97/97 [==============================] - 7s 76ms/step - loss: 0.3140 - val_loss: 0.2010\n",
      "Epoch 44/90\n",
      "97/97 [==============================] - 7s 76ms/step - loss: 0.3182 - val_loss: 0.2069\n",
      "Epoch 45/90\n",
      "97/97 [==============================] - 7s 76ms/step - loss: 0.3113 - val_loss: 0.2061\n",
      "Epoch 46/90\n",
      "97/97 [==============================] - 7s 76ms/step - loss: 0.3151 - val_loss: 0.2141\n",
      "Epoch 47/90\n",
      "97/97 [==============================] - 7s 76ms/step - loss: 0.3139 - val_loss: 0.2027\n",
      "Epoch 48/90\n",
      "97/97 [==============================] - 7s 76ms/step - loss: 0.3109 - val_loss: 0.1982\n",
      "Epoch 49/90\n",
      "97/97 [==============================] - 7s 76ms/step - loss: 0.3094 - val_loss: 0.2024\n",
      "Epoch 50/90\n",
      "97/97 [==============================] - 7s 76ms/step - loss: 0.3091 - val_loss: 0.2064\n",
      "Epoch 51/90\n",
      "97/97 [==============================] - 7s 76ms/step - loss: 0.3102 - val_loss: 0.1992\n",
      "Epoch 52/90\n",
      "97/97 [==============================] - 7s 76ms/step - loss: 0.3101 - val_loss: 0.2031\n",
      "Epoch 53/90\n",
      "97/97 [==============================] - 7s 76ms/step - loss: 0.3110 - val_loss: 0.2003\n",
      "Epoch 54/90\n",
      "97/97 [==============================] - 7s 76ms/step - loss: 0.3119 - val_loss: 0.2055\n",
      "Epoch 55/90\n",
      "97/97 [==============================] - 7s 76ms/step - loss: 0.3105 - val_loss: 0.2195\n",
      "Epoch 56/90\n",
      "97/97 [==============================] - 7s 76ms/step - loss: 0.3088 - val_loss: 0.1989\n",
      "Epoch 57/90\n",
      "97/97 [==============================] - 7s 76ms/step - loss: 0.3091 - val_loss: 0.1896\n",
      "Epoch 58/90\n",
      "97/97 [==============================] - 7s 76ms/step - loss: 0.3119 - val_loss: 0.1906\n",
      "Epoch 59/90\n",
      "97/97 [==============================] - 7s 76ms/step - loss: 0.3111 - val_loss: 0.2044\n",
      "Epoch 60/90\n",
      "97/97 [==============================] - 7s 76ms/step - loss: 0.3083 - val_loss: 0.2074\n",
      "Epoch 61/90\n",
      "97/97 [==============================] - 7s 76ms/step - loss: 0.3097 - val_loss: 0.1889\n",
      "Epoch 62/90\n",
      "97/97 [==============================] - 7s 76ms/step - loss: 0.3039 - val_loss: 0.1984\n",
      "Epoch 63/90\n",
      "97/97 [==============================] - 7s 76ms/step - loss: 0.3064 - val_loss: 0.1929\n",
      "Epoch 64/90\n",
      "97/97 [==============================] - 7s 76ms/step - loss: 0.3043 - val_loss: 0.2015\n",
      "Epoch 65/90\n",
      "97/97 [==============================] - 7s 76ms/step - loss: 0.3036 - val_loss: 0.2009\n",
      "Epoch 66/90\n",
      "97/97 [==============================] - 7s 76ms/step - loss: 0.3039 - val_loss: 0.1891\n",
      "Epoch 67/90\n",
      "97/97 [==============================] - 7s 76ms/step - loss: 0.3039 - val_loss: 0.1967\n",
      "Epoch 68/90\n",
      "97/97 [==============================] - 7s 76ms/step - loss: 0.3006 - val_loss: 0.2048\n",
      "Epoch 69/90\n",
      "97/97 [==============================] - 7s 76ms/step - loss: 0.3061 - val_loss: 0.1803\n",
      "Epoch 70/90\n",
      "97/97 [==============================] - 7s 76ms/step - loss: 0.3019 - val_loss: 0.2107\n",
      "Epoch 71/90\n",
      "97/97 [==============================] - 7s 76ms/step - loss: 0.3026 - val_loss: 0.1998\n",
      "Epoch 72/90\n",
      "97/97 [==============================] - 7s 76ms/step - loss: 0.3040 - val_loss: 0.2036\n",
      "Epoch 73/90\n",
      "97/97 [==============================] - 7s 76ms/step - loss: 0.3053 - val_loss: 0.2055\n",
      "Epoch 74/90\n",
      "97/97 [==============================] - 7s 76ms/step - loss: 0.3018 - val_loss: 0.1936\n",
      "Epoch 75/90\n",
      "97/97 [==============================] - 7s 76ms/step - loss: 0.3044 - val_loss: 0.2043\n",
      "Epoch 76/90\n",
      "97/97 [==============================] - 7s 76ms/step - loss: 0.3049 - val_loss: 0.2061\n",
      "Epoch 77/90\n",
      "97/97 [==============================] - 7s 76ms/step - loss: 0.3039 - val_loss: 0.2021\n",
      "Epoch 78/90\n",
      "97/97 [==============================] - 7s 76ms/step - loss: 0.3041 - val_loss: 0.1979\n",
      "Epoch 79/90\n",
      "97/97 [==============================] - 7s 76ms/step - loss: 0.3007 - val_loss: 0.2009\n",
      "Epoch 80/90\n",
      "97/97 [==============================] - 7s 76ms/step - loss: 0.2997 - val_loss: 0.1949\n",
      "Epoch 81/90\n",
      "97/97 [==============================] - 7s 76ms/step - loss: 0.3025 - val_loss: 0.1965\n",
      "Epoch 82/90\n",
      "97/97 [==============================] - 7s 76ms/step - loss: 0.3053 - val_loss: 0.1914\n",
      "Epoch 83/90\n",
      "97/97 [==============================] - 7s 76ms/step - loss: 0.3007 - val_loss: 0.1911\n",
      "Epoch 84/90\n",
      "97/97 [==============================] - 7s 76ms/step - loss: 0.2999 - val_loss: 0.1965\n",
      "Epoch 85/90\n",
      "97/97 [==============================] - 7s 76ms/step - loss: 0.3022 - val_loss: 0.1954\n",
      "Epoch 86/90\n",
      "97/97 [==============================] - 7s 76ms/step - loss: 0.3007 - val_loss: 0.1997\n",
      "Epoch 87/90\n",
      "97/97 [==============================] - 7s 75ms/step - loss: 0.3019 - val_loss: 0.2068\n",
      "Epoch 88/90\n",
      "97/97 [==============================] - 7s 76ms/step - loss: 0.3006 - val_loss: 0.1987\n",
      "Epoch 89/90\n",
      "97/97 [==============================] - 7s 76ms/step - loss: 0.3018 - val_loss: 0.2050\n",
      "Epoch 90/90\n",
      "97/97 [==============================] - 7s 76ms/step - loss: 0.2983 - val_loss: 0.2073\n"
     ]
    }
   ],
   "source": [
    "with strategy.scope():\n",
    "    pretrained_classifier = tf.keras.models.load_model(\"resnet20_classifier\")\n",
    "    denoiser = Trainer(dncnn.get_dncnn(), pretrained_classifier)\n",
    "    denoiser.denoiser.save(\"initial_denoiser\")\n",
    "    denoiser.compile(optimizer=tf.keras.optimizers.Adam(learning_rate=START_LR),\n",
    "                     loss=tf.keras.losses.CategoricalCrossentropy(reduction=\"none\")\n",
    "    )\n",
    "\n",
    "history = denoiser.fit(train_ds,\n",
    "            steps_per_epoch=len(x_train)//BATCH_SIZE,\n",
    "            validation_data=test_ds,\n",
    "            epochs=EPOCHS,\n",
    "            callbacks=[lr_scheduler])"
   ]
  },
  {
   "cell_type": "code",
   "execution_count": 11,
   "metadata": {
    "colab": {
     "base_uri": "https://localhost:8080/",
     "height": 299
    },
    "id": "gLX5KkeJq51Q",
    "outputId": "94c758ae-7e7c-46fc-afbb-a6ade535464b"
   },
   "outputs": [
    {
     "data": {
      "image/png": "[encoded data removed]",
      "text/plain": [
       "<Figure size 432x288 with 1 Axes>"
      ]
     },
     "metadata": {
      "needs_background": "light"
     },
     "output_type": "display_data"
    },
    {
     "name": "stdout",
     "output_type": "stream",
     "text": [
      "INFO:tensorflow:Assets written to: denoiser_stability/assets\n"
     ]
    }
   ],
   "source": [
    "plt.plot(history.history[\"loss\"], label=\"train loss\")\n",
    "plt.plot(history.history[\"val_loss\"], label=\"test loss\")\n",
    "plt.grid()\n",
    "plt.legend()\n",
    "plt.show()\n",
    "\n",
    "denoiser.denoiser.save(\"denoiser_stability\")"
   ]
  },
  {
   "cell_type": "markdown",
   "metadata": {
    "id": "4ybKXXgcqkQe"
   },
   "source": [
    "## With MSE objective"
   ]
  },
  {
   "cell_type": "code",
   "execution_count": 12,
   "metadata": {
    "colab": {
     "base_uri": "https://localhost:8080/"
    },
    "id": "S0f26p3DnLQW",
    "outputId": "ddfb108e-95f9-4c49-aa09-2562fc7b9cb1"
   },
   "outputs": [
    {
     "name": "stdout",
     "output_type": "stream",
     "text": [
      "WARNING:tensorflow:No training configuration found in save file, so the model was *not* compiled. Compile it manually.\n",
      "Epoch 1/90\n",
      "INFO:tensorflow:batch_all_reduce: 62 all-reduces with algorithm = nccl, num_packs = 1\n",
      "INFO:tensorflow:batch_all_reduce: 62 all-reduces with algorithm = nccl, num_packs = 1\n",
      "97/97 [==============================] - 24s 79ms/step - loss: 0.0604 - val_loss: 0.0183\n",
      "Epoch 2/90\n",
      "97/97 [==============================] - 5s 54ms/step - loss: 0.0144 - val_loss: 0.0076\n",
      "Epoch 3/90\n",
      "97/97 [==============================] - 5s 55ms/step - loss: 0.0068 - val_loss: 0.0055\n",
      "Epoch 4/90\n",
      "97/97 [==============================] - 5s 55ms/step - loss: 0.0050 - val_loss: 0.0041\n",
      "Epoch 5/90\n",
      "97/97 [==============================] - 5s 55ms/step - loss: 0.0042 - val_loss: 0.0029\n",
      "Epoch 6/90\n",
      "97/97 [==============================] - 5s 54ms/step - loss: 0.0037 - val_loss: 0.0039\n",
      "Epoch 7/90\n",
      "97/97 [==============================] - 5s 54ms/step - loss: 0.0037 - val_loss: 0.0020\n",
      "Epoch 8/90\n",
      "97/97 [==============================] - 5s 55ms/step - loss: 0.0031 - val_loss: 0.0024\n",
      "Epoch 9/90\n",
      "97/97 [==============================] - 5s 55ms/step - loss: 0.0030 - val_loss: 0.0060\n",
      "Epoch 10/90\n",
      "97/97 [==============================] - 5s 55ms/step - loss: 0.0028 - val_loss: 0.0033\n",
      "Epoch 11/90\n",
      "97/97 [==============================] - 5s 55ms/step - loss: 0.0027 - val_loss: 0.0013\n",
      "Epoch 12/90\n",
      "97/97 [==============================] - 5s 54ms/step - loss: 0.0026 - val_loss: 0.0051\n",
      "Epoch 13/90\n",
      "97/97 [==============================] - 5s 55ms/step - loss: 0.0025 - val_loss: 0.0016\n",
      "Epoch 14/90\n",
      "97/97 [==============================] - 5s 55ms/step - loss: 0.0023 - val_loss: 0.0011\n",
      "Epoch 15/90\n",
      "97/97 [==============================] - 5s 54ms/step - loss: 0.0023 - val_loss: 0.0042\n",
      "Epoch 16/90\n",
      "97/97 [==============================] - 5s 55ms/step - loss: 0.0022 - val_loss: 0.0025\n",
      "Epoch 17/90\n",
      "97/97 [==============================] - 5s 55ms/step - loss: 0.0022 - val_loss: 0.0039\n",
      "Epoch 18/90\n",
      "97/97 [==============================] - 5s 54ms/step - loss: 0.0021 - val_loss: 0.0017\n",
      "Epoch 19/90\n",
      "97/97 [==============================] - 5s 54ms/step - loss: 0.0020 - val_loss: 0.0016\n",
      "Epoch 20/90\n",
      "97/97 [==============================] - 5s 55ms/step - loss: 0.0019 - val_loss: 0.0018\n",
      "Epoch 21/90\n",
      "97/97 [==============================] - 5s 54ms/step - loss: 0.0019 - val_loss: 0.0016\n",
      "Epoch 22/90\n",
      "97/97 [==============================] - 5s 54ms/step - loss: 0.0018 - val_loss: 0.0011\n",
      "Epoch 23/90\n",
      "97/97 [==============================] - 5s 54ms/step - loss: 0.0018 - val_loss: 0.0019\n",
      "Epoch 24/90\n",
      "97/97 [==============================] - 5s 55ms/step - loss: 0.0017 - val_loss: 0.0022\n",
      "Epoch 25/90\n",
      "97/97 [==============================] - 5s 55ms/step - loss: 0.0017 - val_loss: 0.0014\n",
      "Epoch 26/90\n",
      "97/97 [==============================] - 5s 55ms/step - loss: 0.0017 - val_loss: 0.0014\n",
      "Epoch 27/90\n",
      "97/97 [==============================] - 5s 54ms/step - loss: 0.0016 - val_loss: 0.0015\n",
      "Epoch 28/90\n",
      "97/97 [==============================] - 5s 55ms/step - loss: 0.0016 - val_loss: 9.2881e-04\n",
      "Epoch 29/90\n",
      "97/97 [==============================] - 5s 54ms/step - loss: 0.0016 - val_loss: 0.0026\n",
      "Epoch 30/90\n",
      "97/97 [==============================] - 5s 54ms/step - loss: 0.0016 - val_loss: 0.0010\n",
      "Epoch 31/90\n",
      "97/97 [==============================] - 5s 55ms/step - loss: 0.0014 - val_loss: 0.0013\n",
      "Epoch 32/90\n",
      "97/97 [==============================] - 5s 54ms/step - loss: 0.0012 - val_loss: 5.1350e-04\n",
      "Epoch 33/90\n",
      "97/97 [==============================] - 5s 54ms/step - loss: 0.0012 - val_loss: 6.1331e-04\n",
      "Epoch 34/90\n",
      "97/97 [==============================] - 5s 54ms/step - loss: 0.0012 - val_loss: 5.8201e-04\n",
      "Epoch 35/90\n",
      "97/97 [==============================] - 5s 54ms/step - loss: 0.0011 - val_loss: 5.5720e-04\n",
      "Epoch 36/90\n",
      "97/97 [==============================] - 5s 54ms/step - loss: 0.0012 - val_loss: 7.2087e-04\n",
      "Epoch 37/90\n",
      "97/97 [==============================] - 5s 54ms/step - loss: 0.0011 - val_loss: 6.5761e-04\n",
      "Epoch 38/90\n",
      "97/97 [==============================] - 5s 54ms/step - loss: 0.0011 - val_loss: 6.0990e-04\n",
      "Epoch 39/90\n",
      "97/97 [==============================] - 5s 55ms/step - loss: 0.0011 - val_loss: 5.5000e-04\n",
      "Epoch 40/90\n",
      "97/97 [==============================] - 5s 54ms/step - loss: 0.0011 - val_loss: 5.5300e-04\n",
      "Epoch 41/90\n",
      "97/97 [==============================] - 5s 54ms/step - loss: 0.0012 - val_loss: 5.3825e-04\n",
      "Epoch 42/90\n",
      "97/97 [==============================] - 5s 54ms/step - loss: 0.0011 - val_loss: 6.0790e-04\n",
      "Epoch 43/90\n",
      "97/97 [==============================] - 5s 55ms/step - loss: 0.0011 - val_loss: 5.1722e-04\n",
      "Epoch 44/90\n",
      "97/97 [==============================] - 5s 54ms/step - loss: 0.0012 - val_loss: 9.8958e-04\n",
      "Epoch 45/90\n",
      "97/97 [==============================] - 6s 62ms/step - loss: 0.0011 - val_loss: 5.0852e-04\n",
      "Epoch 46/90\n",
      "97/97 [==============================] - 5s 55ms/step - loss: 0.0011 - val_loss: 5.4033e-04\n",
      "Epoch 47/90\n",
      "97/97 [==============================] - 5s 54ms/step - loss: 0.0011 - val_loss: 5.3346e-04\n",
      "Epoch 48/90\n",
      "97/97 [==============================] - 5s 55ms/step - loss: 0.0011 - val_loss: 5.2196e-04\n",
      "Epoch 49/90\n",
      "97/97 [==============================] - 5s 54ms/step - loss: 0.0011 - val_loss: 6.4571e-04\n",
      "Epoch 50/90\n",
      "97/97 [==============================] - 5s 54ms/step - loss: 0.0011 - val_loss: 5.7214e-04\n",
      "Epoch 51/90\n",
      "97/97 [==============================] - 5s 55ms/step - loss: 0.0011 - val_loss: 4.8099e-04\n",
      "Epoch 52/90\n",
      "97/97 [==============================] - 5s 54ms/step - loss: 0.0011 - val_loss: 5.3950e-04\n",
      "Epoch 53/90\n",
      "97/97 [==============================] - 5s 54ms/step - loss: 0.0011 - val_loss: 6.8400e-04\n",
      "Epoch 54/90\n",
      "97/97 [==============================] - 5s 54ms/step - loss: 0.0011 - val_loss: 4.7000e-04\n",
      "Epoch 55/90\n",
      "97/97 [==============================] - 5s 54ms/step - loss: 0.0011 - val_loss: 8.0983e-04\n",
      "Epoch 56/90\n",
      "97/97 [==============================] - 5s 55ms/step - loss: 0.0011 - val_loss: 5.7719e-04\n",
      "Epoch 57/90\n",
      "97/97 [==============================] - 5s 54ms/step - loss: 0.0011 - val_loss: 5.8855e-04\n",
      "Epoch 58/90\n",
      "97/97 [==============================] - 5s 54ms/step - loss: 0.0011 - val_loss: 6.2172e-04\n",
      "Epoch 59/90\n",
      "97/97 [==============================] - 5s 54ms/step - loss: 0.0011 - val_loss: 5.6920e-04\n",
      "Epoch 60/90\n",
      "97/97 [==============================] - 5s 54ms/step - loss: 0.0011 - val_loss: 6.0252e-04\n",
      "Epoch 61/90\n",
      "97/97 [==============================] - 5s 55ms/step - loss: 0.0011 - val_loss: 5.0472e-04\n",
      "Epoch 62/90\n",
      "97/97 [==============================] - 5s 54ms/step - loss: 0.0011 - val_loss: 8.1341e-04\n",
      "Epoch 63/90\n",
      "97/97 [==============================] - 5s 54ms/step - loss: 0.0010 - val_loss: 5.5949e-04\n",
      "Epoch 64/90\n",
      "97/97 [==============================] - 5s 54ms/step - loss: 0.0010 - val_loss: 4.6341e-04\n",
      "Epoch 65/90\n",
      "97/97 [==============================] - 5s 54ms/step - loss: 0.0010 - val_loss: 4.4023e-04\n",
      "Epoch 66/90\n",
      "97/97 [==============================] - 5s 55ms/step - loss: 9.9303e-04 - val_loss: 4.9605e-04\n",
      "Epoch 67/90\n",
      "97/97 [==============================] - 5s 54ms/step - loss: 9.9123e-04 - val_loss: 6.1753e-04\n",
      "Epoch 68/90\n",
      "97/97 [==============================] - 5s 55ms/step - loss: 0.0010 - val_loss: 5.4595e-04\n",
      "Epoch 69/90\n",
      "97/97 [==============================] - 5s 55ms/step - loss: 0.0010 - val_loss: 4.4822e-04\n",
      "Epoch 70/90\n",
      "97/97 [==============================] - 5s 55ms/step - loss: 0.0011 - val_loss: 9.0038e-04\n",
      "Epoch 71/90\n",
      "97/97 [==============================] - 5s 54ms/step - loss: 0.0010 - val_loss: 5.4294e-04\n",
      "Epoch 72/90\n",
      "97/97 [==============================] - 5s 54ms/step - loss: 9.7593e-04 - val_loss: 5.0562e-04\n",
      "Epoch 73/90\n",
      "97/97 [==============================] - 5s 54ms/step - loss: 0.0010 - val_loss: 5.4990e-04\n",
      "Epoch 74/90\n",
      "97/97 [==============================] - 5s 54ms/step - loss: 0.0010 - val_loss: 5.3130e-04\n",
      "Epoch 75/90\n",
      "97/97 [==============================] - 5s 54ms/step - loss: 0.0010 - val_loss: 4.7490e-04\n",
      "Epoch 76/90\n",
      "97/97 [==============================] - 5s 54ms/step - loss: 9.8308e-04 - val_loss: 4.8572e-04\n",
      "Epoch 77/90\n",
      "97/97 [==============================] - 5s 55ms/step - loss: 0.0010 - val_loss: 4.4648e-04\n",
      "Epoch 78/90\n",
      "97/97 [==============================] - 5s 55ms/step - loss: 0.0010 - val_loss: 5.2068e-04\n",
      "Epoch 79/90\n",
      "97/97 [==============================] - 5s 55ms/step - loss: 0.0010 - val_loss: 5.0260e-04\n",
      "Epoch 80/90\n",
      "97/97 [==============================] - 5s 54ms/step - loss: 0.0010 - val_loss: 5.6244e-04\n",
      "Epoch 81/90\n",
      "97/97 [==============================] - 5s 54ms/step - loss: 0.0010 - val_loss: 4.7123e-04\n",
      "Epoch 82/90\n",
      "97/97 [==============================] - 5s 55ms/step - loss: 0.0010 - val_loss: 5.6051e-04\n",
      "Epoch 83/90\n",
      "97/97 [==============================] - 5s 55ms/step - loss: 0.0010 - val_loss: 4.6816e-04\n",
      "Epoch 84/90\n",
      "97/97 [==============================] - 5s 54ms/step - loss: 9.8784e-04 - val_loss: 4.8585e-04\n",
      "Epoch 85/90\n",
      "97/97 [==============================] - 5s 54ms/step - loss: 9.8716e-04 - val_loss: 4.6904e-04\n",
      "Epoch 86/90\n",
      "97/97 [==============================] - 5s 54ms/step - loss: 9.5673e-04 - val_loss: 4.4165e-04\n",
      "Epoch 87/90\n",
      "97/97 [==============================] - 5s 55ms/step - loss: 0.0010 - val_loss: 5.8562e-04\n",
      "Epoch 88/90\n",
      "97/97 [==============================] - 5s 54ms/step - loss: 9.6637e-04 - val_loss: 4.5835e-04\n",
      "Epoch 89/90\n",
      "97/97 [==============================] - 5s 55ms/step - loss: 9.8395e-04 - val_loss: 5.6031e-04\n",
      "Epoch 90/90\n",
      "97/97 [==============================] - 5s 54ms/step - loss: 9.7118e-04 - val_loss: 5.6422e-04\n"
     ]
    }
   ],
   "source": [
    "with strategy.scope():\n",
    "    initial_denoiser = tf.keras.models.load_model(\"initial_denoiser\")\n",
    "    denoiser = Trainer(initial_denoiser, classifier=None)\n",
    "    denoiser.compile(optimizer=tf.keras.optimizers.Adam(learning_rate=START_LR),\n",
    "                     loss=tf.keras.losses.MeanSquaredError(reduction=\"none\")\n",
    "    )\n",
    "\n",
    "history = denoiser.fit(train_ds,\n",
    "            steps_per_epoch=len(x_train)//BATCH_SIZE,\n",
    "            validation_data=test_ds,\n",
    "            epochs=EPOCHS,\n",
    "            callbacks=[lr_scheduler])"
   ]
  },
  {
   "cell_type": "code",
   "execution_count": 13,
   "metadata": {},
   "outputs": [
    {
     "data": {
      "image/png": "[encoded data removed]",
      "text/plain": [
       "<Figure size 432x288 with 1 Axes>"
      ]
     },
     "metadata": {
      "needs_background": "light"
     },
     "output_type": "display_data"
    },
    {
     "name": "stdout",
     "output_type": "stream",
     "text": [
      "INFO:tensorflow:Assets written to: gs://denoised-smoothing-tf/denoiser_mse/assets\n"
     ]
    }
   ],
   "source": [
    "plt.plot(history.history[\"loss\"], label=\"train loss\")\n",
    "plt.plot(history.history[\"val_loss\"], label=\"test loss\")\n",
    "plt.grid()\n",
    "plt.legend()\n",
    "plt.show()\n",
    "\n",
    "denoiser.denoiser.save(\"denoiser_mse\")"
   ]
  }
 ],
 "metadata": {
  "accelerator": "TPU",
  "colab": {
   "machine_shape": "hm",
   "name": "Train_Denoiser.ipynb",
   "provenance": []
  },
  "environment": {
   "name": "tf2-gpu.2-4.m65",
   "type": "gcloud",
   "uri": "gcr.io/deeplearning-platform-release/tf2-gpu.2-4:m65"
  },
  "kernelspec": {
   "display_name": "Python 3",
   "language": "python",
   "name": "python3"
  },
  "language_info": {
   "codemirror_mode": {
    "name": "ipython",
    "version": 3
   },
   "file_extension": ".py",
   "mimetype": "text/x-python",
   "name": "python",
   "nbconvert_exporter": "python",
   "pygments_lexer": "ipython3",
   "version": "3.7.10"
  }
 },
 "nbformat": 4,
 "nbformat_minor": 4
}
